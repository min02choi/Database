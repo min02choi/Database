{
 "cells": [
  {
   "attachments": {},
   "cell_type": "markdown",
   "metadata": {},
   "source": [
    "## 2023 데이터베이스 ISQL 과제"
   ]
  },
  {
   "attachments": {},
   "cell_type": "markdown",
   "metadata": {},
   "source": [
    "### 코드에 대한 설명은 코드 상단에, 질문은 코드 하단에 주석으로 기입\n",
    "\n",
    "최종으로 확인할 것\n",
    "* NOT NULL 설정\n",
    "* UNIQUE 설정\n",
    "* 문제에서 주어진 조건을 잘 따랐나 각 쿼리마다 확인\n",
    "* SPJ table의 ON UPDATE CASCSDE 설정 확인\n",
    "* 각 테이블의 No 값을 CHAR로 변경?\n",
    "* 쿼리는 캡쳐본?"
   ]
  },
  {
   "attachments": {},
   "cell_type": "markdown",
   "metadata": {},
   "source": [
    "### SCHEMA 생성"
   ]
  },
  {
   "cell_type": "code",
   "execution_count": null,
   "metadata": {
    "vscode": {
     "languageId": "sql"
    }
   },
   "outputs": [],
   "source": [
    "-- create database\n",
    "\n",
    "CREATE DATABASE suppliers_parts_projects;"
   ]
  },
  {
   "cell_type": "code",
   "execution_count": null,
   "metadata": {
    "vscode": {
     "languageId": "sql"
    }
   },
   "outputs": [],
   "source": [
    "-- STATUS는 NULL값을 가질 수 있다: 나머지 attr은 NOT NULL\n",
    "-- mysql #불가 --> NO로 대체함(SNO)\n",
    "\n",
    "CREATE TABLE Supplier (\n",
    "    SNO     VARCHAR(10)     NOT NULL,\n",
    "    SNAME   VARCHAR(20)     NOT NULL,\n",
    "    STATUS  INT,\n",
    "    CITY    VARCHAR(20)     NOT NULL,\n",
    "    PRIMARY KEY(SNO)\n",
    ");\n",
    "\n",
    "-- primary key에 unique 사용할 필요는 없지?"
   ]
  },
  {
   "cell_type": "code",
   "execution_count": null,
   "metadata": {
    "vscode": {
     "languageId": "sql"
    }
   },
   "outputs": [],
   "source": [
    "CREATE TABLE Part (\n",
    "    PNO     VARCHAR(10)     NOT NULL,\n",
    "    PNAME   VARCHAR(20),\n",
    "    COLOR   VARCHAR(20),\n",
    "    WEIGHT  INT,\n",
    "    CITY    VARCHAR(20),\n",
    "    PRIMARY KEY(PNO)\n",
    ");\n",
    "\n",
    "-- NULL 값 세팅은 어떻게 할까"
   ]
  },
  {
   "cell_type": "code",
   "execution_count": null,
   "metadata": {
    "vscode": {
     "languageId": "sql"
    }
   },
   "outputs": [],
   "source": [
    "CREATE TABLE Project (\n",
    "    JNO     VARCHAR(10)     NOT NULL,\n",
    "    JNAME   VARCHAR(20),\n",
    "    CITY    VARCHAR(20),\n",
    "    PRIMARY KEY(JNO)\n",
    ");\n",
    "\n",
    "-- NULL 값 세팅은 어떻게 할까"
   ]
  },
  {
   "cell_type": "code",
   "execution_count": null,
   "metadata": {
    "vscode": {
     "languageId": "sql"
    }
   },
   "outputs": [],
   "source": [
    "CREATE TABLE SPJ (\n",
    "    Snumber     VARCHAR(10)     NOT NULL,\n",
    "    Pnumber     VARCHAR(10)     NOT NULL,\n",
    "    Jnumber     VARCHAR(10)     NOT NULL,\n",
    "    QTY         INT,\n",
    "    PRIMARY KEY(Snumber, Pnumber, Jnumber),\n",
    "    FOREIGN KEY(Snumber) REFERENCES Supplier(SNO)   ON UPDATE CASCADE,\n",
    "    FOREIGN KEY(Pnumber) REFERENCES Part(PNO)       ON UPDATE CASCADE,\n",
    "    FOREIGN KEY(Jnumber) REFERENCES Project(JNO)    ON UPDATE CASCADE\n",
    ");\n",
    "\n",
    "-- 이름 설정\n",
    "-- ON UPDATE CASCADE?"
   ]
  },
  {
   "attachments": {},
   "cell_type": "markdown",
   "metadata": {},
   "source": [
    "헐 CONSTRAINT\n",
    "ON DELETE, ON UPDATE 설정?"
   ]
  },
  {
   "attachments": {},
   "cell_type": "markdown",
   "metadata": {},
   "source": [
    "### TABLE에 VALUE 삽입"
   ]
  },
  {
   "cell_type": "code",
   "execution_count": null,
   "metadata": {
    "vscode": {
     "languageId": "sql"
    }
   },
   "outputs": [],
   "source": [
    "INSERT INTO Supplier\n",
    "VALUES\n",
    "    ('S1', 'Smith', 20, 'London'),\n",
    "    ('S2', 'Jones', 10, 'Paris' ),\n",
    "    ('S3', 'Blake', 30, 'Paris' ),\n",
    "    ('S4', 'Clark', 20, 'London'),\n",
    "    ('S5', 'Adams', 30, 'Athens');"
   ]
  },
  {
   "cell_type": "code",
   "execution_count": null,
   "metadata": {
    "vscode": {
     "languageId": "sql"
    }
   },
   "outputs": [],
   "source": [
    "INSERT INTO Part\n",
    "VALUES\n",
    "    ('P1', 'Nut',   'Red',      12, 'London'),\n",
    "    ('P2', 'Bolt',  'Green',    17, 'Paris' ),\n",
    "    ('P3', 'Screw', 'Blue',     17, 'Rome'  ),\n",
    "    ('P4', 'Screw', 'Red',      14, 'London'),\n",
    "    ('P5', 'Cam',   'Blue',     12, 'Paris' ),\n",
    "    ('P6', 'Cog',   'Red',      19, 'London');"
   ]
  },
  {
   "cell_type": "code",
   "execution_count": null,
   "metadata": {
    "vscode": {
     "languageId": "sql"
    }
   },
   "outputs": [],
   "source": [
    "INSERT INTO Project\n",
    "VALUES\n",
    "    ('J1', 'Sorter',    'Paris' ),\n",
    "    ('J2', 'Punch',     'Rome'  ),\n",
    "    ('J3', 'Reader',    'Athens'),\n",
    "    ('J4', 'Console',   'Athens'),\n",
    "    ('J5', 'Collator',  'London'),\n",
    "    ('J6', 'Terminal',  'Oslo'  ),\n",
    "    ('J7', 'Tape',      'London');"
   ]
  },
  {
   "cell_type": "code",
   "execution_count": null,
   "metadata": {
    "vscode": {
     "languageId": "sql"
    }
   },
   "outputs": [],
   "source": [
    "INSERT INTO SPJ\n",
    "VALUES\n",
    "    ('S1', 'P1', 'J1', 200),\n",
    "    ('S1', 'P1', 'J4', 700),\n",
    "    ('S2', 'P3', 'J1', 400),\n",
    "    ('S2', 'P3', 'J2', 200),\n",
    "    ('S2', 'P3', 'J3', 200),\n",
    "    ('S2', 'P3', 'J4', 500),\n",
    "    ('S2', 'P3', 'J5', 600),\n",
    "    ('S2', 'P3', 'J6', 400),\n",
    "    ('S2', 'P3', 'J7', 800),\n",
    "    ('S2', 'P5', 'J2', 100),\n",
    "    ('S3', 'P3', 'J1', 200),\n",
    "    ('S3', 'P4', 'J2', 500),\n",
    "    ('S4', 'P6', 'J3', 300),\n",
    "    ('S4', 'P6', 'J7', 300),\n",
    "    ('S5', 'P2', 'J2', 200),\n",
    "    ('S5', 'P2', 'J4', 100),\n",
    "    ('S5', 'P5', 'J5', 500),\n",
    "    ('S5', 'P5', 'J7', 100),\n",
    "    ('S5', 'P6', 'J2', 200),\n",
    "    ('S5', 'P1', 'J4', 100),\n",
    "    ('S5', 'P3', 'J4', 200),\n",
    "    ('S5', 'P4', 'J4', 800),\n",
    "    ('S5', 'P5', 'J4', 400),\n",
    "    ('S5', 'P6', 'J4', 500);\n",
    "    "
   ]
  },
  {
   "attachments": {},
   "cell_type": "markdown",
   "metadata": {},
   "source": [
    "### 질의 그룹 #1: 4 Question"
   ]
  },
  {
   "cell_type": "code",
   "execution_count": null,
   "metadata": {
    "vscode": {
     "languageId": "sql"
    }
   },
   "outputs": [],
   "source": [
    "-- Question 1(Ok)\n",
    "\n",
    "SELECT Snumber\n",
    "FROM SPJ\n",
    "WHERE Jnumber = 'J1'\n",
    "ORDER BY Snumber;\n",
    "\n",
    "-- 중복을 어떻게? (아 중복이 안나왔네)\n",
    "-- 근데 Supplier number order 은 string 인데 순서를 별도로 조작..? 아 ORDER BY"
   ]
  },
  {
   "cell_type": "code",
   "execution_count": null,
   "metadata": {
    "vscode": {
     "languageId": "sql"
    }
   },
   "outputs": [],
   "source": [
    "-- Question 2\n",
    "-- 질문\n",
    "\n",
    "SELECT DISTINCT Pnumber\n",
    "FROM SPJ\n",
    "WHERE (QTY >= 300 and QTY <= 750);\n",
    "\n",
    "-- 무엇을 출력하라는 거지?\n",
    "-- shipments가 뭘 말하는건지 몰라서 일단 중복을 제외한 Pnumber 출력함"
   ]
  },
  {
   "cell_type": "code",
   "execution_count": null,
   "metadata": {
    "vscode": {
     "languageId": "sql"
    }
   },
   "outputs": [],
   "source": [
    "-- Question 3\n",
    "-- 뭔소리지?\n",
    "\n",
    "SELECT Pnumber\n",
    "FROM Supplier, Project, SPJ\n",
    "WHERE Supplier.CITY = 'London'\n",
    "    AND Project.CITY = 'London'\n",
    "    AND SNO = Snumber\n",
    "    AND JNO = Jnumber;"
   ]
  },
  {
   "cell_type": "code",
   "execution_count": null,
   "metadata": {
    "vscode": {
     "languageId": "sql"
    }
   },
   "outputs": [],
   "source": [
    "-- Question 4\n",
    "-- 뭔소리지? first city 가 뭐임\n",
    "\n",
    "SELECT DISTINCT S.CITY, J.CITY\n",
    "FROM Supplier S, Project J, SPJ\n",
    "WHERE SNO = Snumber\n",
    "AND JNO = Jnumber;\n"
   ]
  },
  {
   "attachments": {},
   "cell_type": "markdown",
   "metadata": {},
   "source": [
    "### 질의 그룹 #2: 5 Question"
   ]
  },
  {
   "cell_type": "code",
   "execution_count": null,
   "metadata": {
    "vscode": {
     "languageId": "sql"
    }
   },
   "outputs": [],
   "source": [
    "-- Question 1\n",
    "\n",
    "SELECT Pnumber, Jnumber, SUM(QTY)\n",
    "FROM SPJ\n",
    "GROUP BY Pnumber, Jnumber;\n",
    "\n",
    "-- 제대로 해석한게 맞나"
   ]
  },
  {
   "cell_type": "code",
   "execution_count": null,
   "metadata": {
    "vscode": {
     "languageId": "sql"
    }
   },
   "outputs": [],
   "source": [
    "-- Question 2\n",
    "-- 뭐라는겨\n",
    "\n",
    "SELECT Pnumber\n",
    "FROM SPJ\n",
    "GROUP BY Pnumber\n",
    "HAVING AVG(QTY) >= 320;\n"
   ]
  },
  {
   "cell_type": "code",
   "execution_count": null,
   "metadata": {
    "vscode": {
     "languageId": "sql"
    }
   },
   "outputs": [],
   "source": [
    "-- Question 3\n",
    "\n",
    "SELECT JNO, CITY\n",
    "FROM Project\n",
    "WHERE CITY LIKE('_o%');"
   ]
  },
  {
   "cell_type": "code",
   "execution_count": null,
   "metadata": {
    "vscode": {
     "languageId": "sql"
    }
   },
   "outputs": [],
   "source": [
    "-- Question 4\n",
    "-- 하나만 출력하라는겨?\n",
    "\n",
    "-- SELECT JNO, CITY\n",
    "-- FROM Project\n",
    "-- ORDER BY CITY;\n",
    "\n",
    "SELECT JNO\n",
    "FROM Project\n",
    "WHERE CITY = (\n",
    "    SELECT CITY\n",
    "    FROM Project\n",
    "    ORDER BY CITY LIMIT 1\n",
    ");"
   ]
  },
  {
   "cell_type": "code",
   "execution_count": null,
   "metadata": {
    "vscode": {
     "languageId": "sql"
    }
   },
   "outputs": [],
   "source": [
    "-- Question 5\n",
    "-- 해석 뒈지게 어렵네\n",
    "-- 이너쿼리의 값이 400이 나옴 아우터가 J4가 400 -> empty set\n",
    "\n",
    "SELECT Jnumber\n",
    "FROM SPJ\n",
    "WHERE Pnumber = 'P1'\n",
    "GROUP BY Jnumber\n",
    "HAVING AVG(QTY) > (\n",
    "    SELECT MAX(QTY)\n",
    "    FROM SPJ\n",
    "    WHERE Jnumber = 'J1'\n",
    ");\n",
    "\n",
    "SELECT Jnumber, AVG(QTY)\n",
    "FROM SPJ\n",
    "WHERE Pnumber = 'P1'\n",
    "GROUP BY Jnumber;\n"
   ]
  },
  {
   "attachments": {},
   "cell_type": "markdown",
   "metadata": {},
   "source": [
    "### 질의 그룹 #3: 4 Questions"
   ]
  },
  {
   "cell_type": "code",
   "execution_count": null,
   "metadata": {
    "vscode": {
     "languageId": "sql"
    }
   },
   "outputs": [],
   "source": [
    "-- Question 1\n",
    "-- 어렵다\n",
    "\n",
    "SELECT DISTINCT Pnumber\n",
    "FROM SPJ\n",
    "WHERE EXISTS (  \n",
    "    SELECT 1\n",
    "    FROM Project\n",
    "    WHERE CITY = 'London'\n",
    "    AND JNO = SPJ.Jnumber\n",
    ");"
   ]
  },
  {
   "cell_type": "code",
   "execution_count": null,
   "metadata": {
    "vscode": {
     "languageId": "sql"
    }
   },
   "outputs": [],
   "source": [
    "-- Question 2\n",
    "-- 으아악\n",
    "\n",
    "SELECT Jnumber\n",
    "FROM SPJ SPJ_X\n",
    "WHERE NOT EXISTS (\n",
    "    SELECT 1\n",
    "    FROM SPJ SPJ_Y\n",
    "    WHERE EXISTS (\n",
    "        SELECT 1\n",
    "        FROM Supplier, SPJ SPJ_Z\n",
    "        WHERE CITY = 'London'\n",
    "        AND SNO = SPJ_X.Snumber\n",
    "        AND SPJ_X.Jnumber = SPJ_Z.Jnumber\n",
    "    )\n",
    ");\n",
    "\n",
    "SELECT Jnumber\n",
    "FROM SPJ SPJ_X\n",
    "WHERE SPJ_X.Pnumber NOT IN (\n",
    "    SELECT Pnumber\n",
    "    FROM SPJ\n",
    "    WHERE EXISTS (\n",
    "        SELECT 1\n",
    "        FROM Supplier\n",
    "        WHERE CITY = 'London'\n",
    "        AND SNO = Snumber\n",
    "    )\n",
    ");\n",
    "\n",
    "-- P1, P6으로 제공된 J\n",
    "SELECT Jnumber\n",
    "FROM SPJ\n",
    "WHERE SPJ.Jnumber IN (\n",
    "    SELECT *\n",
    "    FROM SPJ SPJ_Y\n",
    "    WHERE EXISTS (\n",
    "    SELECT 1\n",
    "        FROM Supplier\n",
    "        WHERE CITY = 'London'\n",
    "        AND SNO = SPJ_Y.Snumber\n",
    "    )\n",
    ");\n",
    "\n",
    "SELECT DISTINCT Jnumber\n",
    "FROM SPJ\n",
    "WHERE Pnumber IN (\n",
    "    SELECT DISTINCT Pnumber\n",
    "    FROM SPJ\n",
    "    WHERE EXISTS (\n",
    "        SELECT 1\n",
    "        FROM Supplier\n",
    "        WHERE CITY = 'London'\n",
    "        AND SNO = Snumber\n",
    "    )\n",
    ");\n",
    "\n",
    "SELECT DISTINCT Jnumber\n",
    "FROM SPJ\n",
    "WHERE Pnumber IN (\n",
    "    SELECT DISTINCT Pnumber\n",
    "    FROM SPJ\n",
    "    WHERE EXISTS (\n",
    "        SELECT 1\n",
    "        FROM Supplier\n",
    "        WHERE CITY = 'London'\n",
    "        AND SNO = Snumber\n",
    "    )\n",
    ");\n",
    "\n",
    "-- 일단 완성본 ㅋㅋㅋㅋㅋㅋㅋㅋㅋㅋㅋㅋㅋㅋㅋㅋㅋㅋㅋㅋㅋ\n",
    "\n",
    "SELECT DISTINCT Jnumber\n",
    "FROM SPJ\n",
    "WHERE Jnumber NOT IN (\n",
    "    SELECT DISTINCT Jnumber\n",
    "    FROM SPJ\n",
    "    WHERE Pnumber IN (\n",
    "        SELECT DISTINCT Pnumber\n",
    "        FROM SPJ\n",
    "        WHERE EXISTS (\n",
    "            SELECT 1\n",
    "            FROM Supplier\n",
    "            WHERE CITY = 'London'\n",
    "            AND SNO = Snumber\n",
    "        )\n",
    "    )\n",
    ");\n",
    "-----------------------------------------\n",
    "\n",
    "\n",
    "-- London supplier가 생산한 Part을 구하는 과정(p1, p6)\n",
    "SELECT Pnumber\n",
    "FROM SPJ\n",
    "WHERE EXISTS (\n",
    "    SELECT 1\n",
    "    FROM Supplier\n",
    "    WHERE CITY = 'London'\n",
    "    AND SNO = Snumber\n",
    ");\n",
    "-------------------------------------------------------\n",
    "\n",
    "SELECT DISTINCT Jnumber\n",
    "FROM SPJ SPJ_X\n",
    "WHERE EXISTS (\n",
    "    SELECT 1\n",
    "    FROM SPJ SPJ_Y, Supplier\n",
    "    WHERE CITY = 'London'\n",
    "    AND SNO = SPJ_Y.Snumber\n",
    "    AND NOT EXISTS (\n",
    "        SELECT 1\n",
    "        FROM SPJ SPJ_Z\n",
    "        WHERE SPJ_Z.Jnumber = SPJ_X.Jnumber\n",
    "        AND SPJ_Z.Pnumber = SPJ_Y.Pnumber\n",
    "    )\n",
    ");\n"
   ]
  },
  {
   "cell_type": "code",
   "execution_count": null,
   "metadata": {
    "vscode": {
     "languageId": "sql"
    }
   },
   "outputs": [],
   "source": [
    "-- Question 3\n",
    "\n",
    "SELECT DISTINCT Jnumber\n",
    "FROM SPJ SPJ_X\n",
    "WHERE NOT EXISTS (\n",
    "    SELECT 1\n",
    "    FROM SPJ SPJ_Y\n",
    "    WHERE Snumber = 'S1'\n",
    "    AND NOT EXISTS (\n",
    "        SELECT 1\n",
    "        FROM SPJ SPJ_Z\n",
    "        WHERE SPJ_Z.Jnumber = SPJ_X.Jnumber\n",
    "        AND SPJ_Z.Pnumber = SPJ_Y.Pnumber\n",
    "    )\n",
    ");"
   ]
  },
  {
   "cell_type": "code",
   "execution_count": null,
   "metadata": {
    "vscode": {
     "languageId": "sql"
    }
   },
   "outputs": [],
   "source": [
    "-- Question 4\n",
    "\n",
    "(SELECT CITY\n",
    "FROM Supplier)\n",
    "UNION\n",
    "(SELECT CITY\n",
    "FROM Part)\n",
    "UNION\n",
    "(SELECT CITY\n",
    "FROM Project)\n",
    "ORDER BY CITY;"
   ]
  },
  {
   "attachments": {},
   "cell_type": "markdown",
   "metadata": {},
   "source": [
    "### 질의 그룹 #4: 4 Questions"
   ]
  },
  {
   "cell_type": "code",
   "execution_count": null,
   "metadata": {
    "vscode": {
     "languageId": "sql"
    }
   },
   "outputs": [],
   "source": [
    "-- Question 1\n",
    "-- 1. 할당받은 Part가 있는 Project를 이너쿼리로 추출(우선 Project 별로 할당받은 부붐의 총 수를 구함)\n",
    "-- 2. \n",
    "\n",
    "DELETE\n",
    "FROM Project\n",
    "WHERE JNO NOT IN (\n",
    "    SELECT Jnumber\n",
    "    FROM SPJ\n",
    "    GROUP BY Jnumber\n",
    "    HAVING SUM(QTY) > 0\n",
    ");\n",
    "\n",
    "-- 테이블을 어디 선택해야 하지?(아마 Project)\n",
    "-- spj의 fk에 on update cascade 적용이 되어있는지 확인"
   ]
  },
  {
   "cell_type": "code",
   "execution_count": null,
   "metadata": {
    "vscode": {
     "languageId": "sql"
    }
   },
   "outputs": [],
   "source": [
    "-- Question 2\n",
    "\n",
    "INSERT INTO Supplier\n",
    "    VALUES ('S10', 'Smith', Null, 'New York');\n",
    "\n",
    "DELETE\n",
    "FROM Supplier\n",
    "WHERE SNO = 'S10';"
   ]
  },
  {
   "cell_type": "code",
   "execution_count": null,
   "metadata": {
    "vscode": {
     "languageId": "sql"
    }
   },
   "outputs": [],
   "source": [
    "-- Question 3\n",
    "--!!!!!!!!!!!!!!!! 다시 !!!!!!!!!!!!!!!!!!!!!!\n",
    "\n",
    "SELECT DISTINCT Pnumber\n",
    "FROM Supplier S, Project J, SPJ\n",
    "WHERE (S.CITY = 'London'\n",
    "OR J.CITY = 'London')\n",
    "AND SNO = Snumber\n",
    "AND JNO = Jnumber;\n",
    "\n",
    "CREATE TABLE "
   ]
  },
  {
   "cell_type": "code",
   "execution_count": null,
   "metadata": {
    "vscode": {
     "languageId": "sql"
    }
   },
   "outputs": [],
   "source": [
    "-- Question 4\n",
    "--!!!!!!!!!!!!!!!! 다시 !!!!!!!!!!!!!!!!!!!!!!\n",
    "\n",
    "SELECT DISTINCT JNO\n",
    "FROM Supplier S, Project J, SPJ\n",
    "WHERE (J.CITY = 'London'\n",
    "OR S.CITY = 'London')\n",
    "AND SNO = Snumber\n",
    "AND JNO = Jnumber;\n"
   ]
  },
  {
   "attachments": {},
   "cell_type": "markdown",
   "metadata": {},
   "source": [
    "### 질의 그룹 #5: 3 Questions"
   ]
  },
  {
   "cell_type": "code",
   "execution_count": null,
   "metadata": {
    "vscode": {
     "languageId": "sql"
    }
   },
   "outputs": [],
   "source": [
    "-- Question 1\n",
    "-- 새로운 테이블을 하나 만들라는 소리인가 아니면 이 테이블을 말하는건가\n",
    "\n",
    "CREATE TABLE Dependent (   \n",
    "    NAME        VARCHAR(30)     NOT NULL,\n",
    "    SEX         CHAR(1) CHECK(SEX IN ('M', 'F')),\n",
    "    RELATION    VARCHAR(20),\n",
    "    Snumber     VARCHAR(10)     NOT NULL,\n",
    "    PRIMARY KEY(NAME, Snumber),\n",
    "    FOREIGN KEY(Snumber) REFERENCES Supplier(SNO)\n",
    ");\n",
    "\n",
    "-- 근데 fk로만으로도 식별이 가능한데 왜 본인꺼에서 하나를 더 하는거지?\n",
    "-- 아니 근데 강의자료(5주차 2차시)에서 dependent의 pk(essn, dependent_name)인데 만약 한 가족에 이름이 동일한 상황이면 이 경우 pk가 안되는거 아닌가? 이 경우 essn과 dependent_name이 같게 되는데?"
   ]
  },
  {
   "cell_type": "code",
   "execution_count": null,
   "metadata": {
    "vscode": {
     "languageId": "sql"
    }
   },
   "outputs": [],
   "source": [
    "-- Question 2\n",
    "-- Cluster?\n",
    "\n",
    "-- CREATE UNIQUE INDEX XS ON Supplier(SNO);\n",
    "\n",
    "-- SHOW INDEX FROM <테이블 이름>\n",
    "-- ALTER TABLE 테이블이름 DROP INDEX 인덱스이름;\n"
   ]
  },
  {
   "cell_type": "code",
   "execution_count": null,
   "metadata": {
    "vscode": {
     "languageId": "sql"
    }
   },
   "outputs": [],
   "source": [
    "-- Question 3\n",
    "-- 아 설마 교수님이 말씀하신 가정이라는게 이거 말하는건가\n",
    "-- DB를 만들어? 그냥 하면 될듯 아니면 깃허브 블로그에 있는거 가져오기\n",
    "-- DB 생성 -> Table 생성 -> value 삽입\n",
    "\n",
    "-- 물품을 공급해주는 회사\n",
    "\n",
    "\n",
    "-- 데이터베이스 생성\n",
    "CREATE DATABASE company;\n",
    "\n",
    "\n",
    "-- 테이블 생성\n",
    "CREATE TABLE Employee (\n",
    "    EID     INT         NOT NULL,\n",
    "    ENAME   VARCHAR(30) NOT NULL,\n",
    "    SEX     CHAR(1)     CHECK(SEX IN ('M', 'F')),\n",
    "    SALARY  INT         CHECK(SALARY >= 0),\n",
    "    PRIMARY KEY(EID)\n",
    ");\n",
    "-- DEPT_ID 추가?\n",
    "\n",
    "    -- start_date 이름 바꾸어야 할듯. 프로젝트 제의 들어온 날짜로\n",
    "CREATE TABLE Project (\n",
    "    PID     INT         NOT NULL,\n",
    "    PNAME   VARCHAR(30) NOT NULL UNIQUE,\n",
    "    STATUS  VARCHAR(20) CHECK(STATUS IN ('Not_Start', 'In_Progress', 'Suspend', 'Complete')) DEFAULT 'Not_Start',\n",
    "    START_DATE  DATE,\n",
    "    PRIMARY KEY(PID)\n",
    ");\n",
    "\n",
    "CREATE TABLE Works_On (\n",
    "    EmployeeID  INT     NOT NULL,\n",
    "    ProjectID   INT     NOT NULL,\n",
    "    HOURS       INT     DEFAULT 0,\n",
    "    PRIMARY KEY(EmployeeID, ProjectID),\n",
    "    FOREIGN KEY(EmployeeID) REFERENCES Employee(EID),\n",
    "    FOREIGN KEY(ProjectID) REFERENCES Project(PID)\n",
    ");\n",
    "\n",
    "-- Value 삽입\n",
    "INSERT INTO Employee\n",
    "VALUES\n",
    "    (2023001, 'Ashley', 'F', 30000000),\n",
    "    (2023002, 'Justin', 'M', 60000000),\n",
    "    (2023003, 'Andrew', 'M', 30000000),\n",
    "    (2023004, 'Ashley', 'F', 45000000),\n",
    "    (2023005, 'Nancy',  'F', 40000000);\n",
    "\n",
    "INSERT INTO Project\n",
    "VALUES\n",
    "    (100001, 'produceA', 'Not_Start',   '2023-01-01'),\n",
    "    (100002, 'produceB', 'Complete',    '2023-03-12'),\n",
    "    (100003, 'produceC', 'In_Progress', '2023-02-23'),\n",
    "    (200002, 'inspectB', 'Complete',    '2023-03-30'),\n",
    "    (300002, 'supplyB',  'In_Progress', '2023-04-15');\n",
    "\n",
    "-- 아이디어: 각 물품에 대해 계획, 생산, 검수, 공급\n",
    "\n",
    "INSERT INTO Works_On\n",
    "VALUES\n",
    "    (2023001, 100002, 10),\n",
    "    (2023001, 200002, 5),\n",
    "    (2023001, 300002, 2),\n",
    "    (2023002, 100002, 4),\n",
    "    (2023002, 100003, 7),\n",
    "    (2023004, 100003, 9),\n",
    "    (2023005, 300002, 4);\n",
    "    "
   ]
  },
  {
   "attachments": {},
   "cell_type": "markdown",
   "metadata": {},
   "source": [
    "### 질의 그룹 #6: 4 Questions"
   ]
  },
  {
   "attachments": {},
   "cell_type": "markdown",
   "metadata": {},
   "source": [
    "#4 에서 TABLES에 대한 UPDATE가 있으므로 그거에 따라 VIEW의 값이 달라질 수 있음.\n",
    "제출하기 전 실행은 반드시 문제 순서대로 하고 캡쳐할 것."
   ]
  },
  {
   "cell_type": "code",
   "execution_count": null,
   "metadata": {
    "vscode": {
     "languageId": "sql"
    }
   },
   "outputs": [],
   "source": [
    "-- Question 1\n",
    "-- view 이름을 그럴싸하게 지어야 하는가?\n",
    "\n",
    "-- 튜플 간 중복 있는 뷰\n",
    "CREATE VIEW view1_1\n",
    "AS  SELECT SNO, PNO\n",
    "    FROM Supplier S, Part P, SPJ\n",
    "    WHERE S.CITY != P.CITY\n",
    "    AND SNO = Snumber\n",
    "    AND PNO = Pnumber;\n",
    "\n",
    "-- 튜플 간 중복 없는 뷰\n",
    "CREATE VIEW view1_2\n",
    "AS  SELECT DISTINCT SNO, PNO\n",
    "    FROM Supplier S, Part P, SPJ\n",
    "    WHERE S.CITY != P.CITY\n",
    "    AND SNO = Snumber\n",
    "    AND PNO = Pnumber;\n"
   ]
  },
  {
   "cell_type": "code",
   "execution_count": null,
   "metadata": {
    "vscode": {
     "languageId": "sql"
    }
   },
   "outputs": [],
   "source": [
    "-- Question 2\n",
    "\n",
    "CREATE VIEW view2_1\n",
    "AS  SELECT *\n",
    "    FROM Supplier\n",
    "    WHERE CITY = 'London';"
   ]
  },
  {
   "cell_type": "code",
   "execution_count": null,
   "metadata": {
    "vscode": {
     "languageId": "sql"
    }
   },
   "outputs": [],
   "source": [
    "-- Question 3\n",
    "\n",
    "CREATE VIEW view3_1\n",
    "AS  SELECT JNO, CITY\n",
    "    FROM Project, SPJ\n",
    "    WHERE Snumber = 'S1'\n",
    "    AND Pnumber = 'P1';\n",
    "\n",
    "CREATE VIEW view3_2\n",
    "AS  SELECT JNO, CITY\n",
    "    FROM Project, SPJ\n",
    "    WHERE Snumber = 'S1'\n",
    "    AND Pnumber = 'P1'\n",
    "    AND JNO = Jnumber;"
   ]
  },
  {
   "cell_type": "code",
   "execution_count": null,
   "metadata": {
    "vscode": {
     "languageId": "sql"
    }
   },
   "outputs": [],
   "source": [
    "-- Question 4\n",
    "-- 일단 실행은 안했음\n",
    "\n",
    "CREATE VIEW HEAVYWEIGHTS(PNO, WT, COL)\n",
    "AS  SELECT PNO, WEIGHT, COLOR\n",
    "    FROM Part\n",
    "    WHERE WEIGHT > 14;\n",
    "\n",
    "-- a)\n",
    "SELECT *\n",
    "FROM HEAVYWEIGHTS\n",
    "WHERE COL = 'Green';\n",
    "\n",
    "-- b)\n",
    "UPDATE HEAVYWEIGHTS\n",
    "SET COL = 'White'\n",
    "WHERE WT = 18;\n",
    "\n",
    "-- c)\n",
    "DELETE\n",
    "FROM HEAVYWEIGHTS\n",
    "WHERE WT < 10;\n",
    "\n",
    "-- d)\n",
    "INSERT\n",
    "INTO HEAVYWEIGHTS(PNO, WT, COL)\n",
    "VALUES ('P99', 12, 'Purple');"
   ]
  }
 ],
 "metadata": {
  "kernelspec": {
   "display_name": "base",
   "language": "python",
   "name": "python3"
  },
  "language_info": {
   "codemirror_mode": {
    "name": "ipython",
    "version": 3
   },
   "file_extension": ".py",
   "mimetype": "text/x-python",
   "name": "python",
   "nbconvert_exporter": "python",
   "pygments_lexer": "ipython3",
   "version": "3.9.13 (main, Aug 25 2022, 18:29:29) \n[Clang 12.0.0 ]"
  },
  "orig_nbformat": 4,
  "vscode": {
   "interpreter": {
    "hash": "fcfa22447a061305a34deef36b40a4daf1a75ba0ef343940a6abeee1aca9e9e8"
   }
  }
 },
 "nbformat": 4,
 "nbformat_minor": 2
}
