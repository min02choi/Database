{
 "cells": [
  {
   "attachments": {},
   "cell_type": "markdown",
   "metadata": {},
   "source": [
    "## 2023 데이터베이스 ISQL 과제"
   ]
  },
  {
   "attachments": {},
   "cell_type": "markdown",
   "metadata": {},
   "source": [
    "### 코드에 대한 설명은 코드 상단에, 질문은 코드 하단에 주석으로 기입\n",
    "\n",
    "최종으로 확인할 것\n",
    "* NOT NULL 설정\n",
    "* UNIQUE 설정"
   ]
  },
  {
   "attachments": {},
   "cell_type": "markdown",
   "metadata": {},
   "source": [
    "### SCHEMA 생성"
   ]
  },
  {
   "cell_type": "code",
   "execution_count": null,
   "metadata": {
    "vscode": {
     "languageId": "sql"
    }
   },
   "outputs": [],
   "source": [
    "-- create database\n",
    "CREATE DATABASE suppliers_parts_projects;"
   ]
  },
  {
   "cell_type": "code",
   "execution_count": null,
   "metadata": {
    "vscode": {
     "languageId": "sql"
    }
   },
   "outputs": [],
   "source": [
    "-- STATUS는 NULL값을 가질 수 있다: 나머지 attr은 NOT NULL\n",
    "-- mysql #불가 --> NO로 대체함(SNO)\n",
    "CREATE TABLE Supplier (\n",
    "    SNO     VARCHAR(10)     NOT NULL,\n",
    "    SNAME   VARCHAR(20)     NOT NULL,\n",
    "    STATUS  INT,\n",
    "    CITY    VARCHAR(20)     NOT NULL,\n",
    "    PRIMARY KEY(SNO)\n",
    ");\n",
    "\n",
    "-- primary key에 unique 사용할 필요는 없지?"
   ]
  },
  {
   "cell_type": "code",
   "execution_count": null,
   "metadata": {
    "vscode": {
     "languageId": "sql"
    }
   },
   "outputs": [],
   "source": [
    "CREATE TABLE Part (\n",
    "    PNO     VARCHAR(10)     NOT NULL,\n",
    "    PNAME   VARCHAR(20),\n",
    "    COLOR   VARCHAR(20),\n",
    "    WEIGHT  INT,\n",
    "    CITY    VARCHAR(20),\n",
    "    PRIMARY KEY(PNO)\n",
    ");\n",
    "\n",
    "-- NULL 값 세팅은 어떻게 할까"
   ]
  },
  {
   "cell_type": "code",
   "execution_count": null,
   "metadata": {
    "vscode": {
     "languageId": "sql"
    }
   },
   "outputs": [],
   "source": [
    "CREATE TABLE Project (\n",
    "    JNO     VARCHAR(10)     NOT NULL,\n",
    "    JNAME   VARCHAR(20),\n",
    "    CITY    VARCHAR(20),\n",
    "    PRIMARY KEY(JNO)\n",
    ");\n",
    "\n",
    "-- NULL 값 세팅은 어떻게 할까"
   ]
  },
  {
   "cell_type": "code",
   "execution_count": null,
   "metadata": {
    "vscode": {
     "languageId": "sql"
    }
   },
   "outputs": [],
   "source": [
    "CREATE TABLE SPJ (\n",
    "    Snumber     VARCHAR(10)     NOT NULL,\n",
    "    Pnumber     VARCHAR(10)     NOT NULL,\n",
    "    Jnumber     VARCHAR(10)     NOT NULL,\n",
    "    QTY         INT,\n",
    "    PRIMARY KEY(Snumber, Pnumber, Jnumber),\n",
    "    FOREIGN KEY(Snumber) REFERENCES Supplier(SNO)   ON UPDATE CASCADE,\n",
    "    FOREIGN KEY(Pnumber) REFERENCES Part(PNO)       ON UPDATE CASCADE,\n",
    "    FOREIGN KEY(Jnumber) REFERENCES Project(JNO)    ON UPDATE CASCADE\n",
    ");\n",
    "\n",
    "-- 이름 설정\n",
    "-- ON UPDATE CASCADE?"
   ]
  },
  {
   "attachments": {},
   "cell_type": "markdown",
   "metadata": {},
   "source": [
    "헐 CONSTRAINT\n",
    "ON DELETE, ON UPDATE 설정"
   ]
  },
  {
   "attachments": {},
   "cell_type": "markdown",
   "metadata": {},
   "source": [
    "### TABLE에 VALUE 삽입"
   ]
  },
  {
   "cell_type": "code",
   "execution_count": null,
   "metadata": {
    "vscode": {
     "languageId": "sql"
    }
   },
   "outputs": [],
   "source": [
    "INSERT INTO Supplier\n",
    "VALUES\n",
    "    ('S1', 'Smith', 20, 'London'),\n",
    "    ('S2', 'Jones', 10, 'Paris' ),\n",
    "    ('S3', 'Blake', 30, 'Paris' ),\n",
    "    ('S4', 'Clark', 20, 'London'),\n",
    "    ('S5', 'Adams', 30, 'Athens');"
   ]
  },
  {
   "cell_type": "code",
   "execution_count": null,
   "metadata": {
    "vscode": {
     "languageId": "sql"
    }
   },
   "outputs": [],
   "source": [
    "INSERT INTO Part\n",
    "VALUES\n",
    "    ('P1', 'Nut',   'Red',      12, 'London'),\n",
    "    ('P2', 'Bolt',  'Green',    17, 'Paris' ),\n",
    "    ('P3', 'Screw', 'Blue',     17, 'Rome'  ),\n",
    "    ('P4', 'Screw', 'Red',      14, 'London'),\n",
    "    ('P5', 'Cam',   'Blue',     12, 'Paris' ),\n",
    "    ('P6', 'Cog',   'Red',      19, 'London');"
   ]
  },
  {
   "cell_type": "code",
   "execution_count": null,
   "metadata": {
    "vscode": {
     "languageId": "sql"
    }
   },
   "outputs": [],
   "source": [
    "INSERT INTO Project\n",
    "VALUES\n",
    "    ('J1', 'Sorter',    'Paris' ),\n",
    "    ('J2', 'Punch',     'Rome'  ),\n",
    "    ('J3', 'Reader',    'Athens'),\n",
    "    ('J4', 'Console',   'Athens'),\n",
    "    ('J5', 'Collator',  'London'),\n",
    "    ('J6', 'Terminal',  'Oslo'  ),\n",
    "    ('J7', 'Tape',      'London');"
   ]
  },
  {
   "cell_type": "code",
   "execution_count": null,
   "metadata": {
    "vscode": {
     "languageId": "sql"
    }
   },
   "outputs": [],
   "source": [
    "INSERT INTO SPJ\n",
    "VALUES\n",
    "    ('S1', 'P1', 'J1', 200),\n",
    "    ('S1', 'P1', 'J4', 700),\n",
    "    ('S2', 'P3', 'J1', 400),\n",
    "    ('S2', 'P3', 'J2', 200),\n",
    "    ('S2', 'P3', 'J3', 200),\n",
    "    ('S2', 'P3', 'J4', 500),\n",
    "    ('S2', 'P3', 'J5', 600),\n",
    "    ('S2', 'P3', 'J6', 400),\n",
    "    ('S2', 'P3', 'J7', 800),\n",
    "    ('S2', 'P5', 'J2', 100),\n",
    "    ('S3', 'P3', 'J1', 200),\n",
    "    ('S3', 'P4', 'J2', 500),\n",
    "    ('S4', 'P6', 'J3', 300),\n",
    "    ('S4', 'P6', 'J7', 300),\n",
    "    ('S5', 'P2', 'J2', 200),\n",
    "    ('S5', 'P2', 'J4', 100),\n",
    "    ('S5', 'P5', 'J5', 500),\n",
    "    ('S5', 'P5', 'J7', 100),\n",
    "    ('S5', 'P6', 'J2', 200),\n",
    "    ('S5', 'P1', 'J4', 100),\n",
    "    ('S5', 'P3', 'J4', 200),\n",
    "    ('S5', 'P4', 'J4', 800),\n",
    "    ('S5', 'P5', 'J4', 400),\n",
    "    ('S5', 'P6', 'J4', 500);\n",
    "    "
   ]
  },
  {
   "attachments": {},
   "cell_type": "markdown",
   "metadata": {},
   "source": [
    "### 질의 그룹 #1: 4 Question"
   ]
  },
  {
   "cell_type": "code",
   "execution_count": null,
   "metadata": {
    "vscode": {
     "languageId": "sql"
    }
   },
   "outputs": [],
   "source": [
    "-- Question 1(Ok)\n",
    "\n",
    "SELECT Snumber\n",
    "FROM SPJ\n",
    "WHERE Jnumber = 'J1'\n",
    "\n",
    "-- 중복을 어떻게? (아 중복이 안나왔네)\n",
    "-- 근데 Supplier number order 은 string 인데 순서를 별도로 조작..? "
   ]
  },
  {
   "cell_type": "code",
   "execution_count": null,
   "metadata": {
    "vscode": {
     "languageId": "sql"
    }
   },
   "outputs": [],
   "source": [
    "-- Question 2\n",
    "\n",
    "SELECT DISTINCT Pnumber\n",
    "FROM SPJ\n",
    "WHERE (QTY >= 300 and QTY <= 750);\n",
    "\n",
    "-- 무엇을 출력하라는 거지?\n",
    "-- shipments가 뭘 말하는건지 몰라서 일단 중복을 제외한 Pnumber 출력함"
   ]
  },
  {
   "cell_type": "code",
   "execution_count": null,
   "metadata": {
    "vscode": {
     "languageId": "sql"
    }
   },
   "outputs": [],
   "source": [
    "-- Question 3\n",
    "-- 뭔소리지?\n",
    "\n",
    "SELECT Pnumber\n",
    "FROM Supplier, Project, SPJ\n",
    "WHERE Supplier.CITY = 'London'\n",
    "    AND Project.CITY = 'London'\n",
    "    AND SNO = Snumber\n",
    "    AND JNO = Jnumber;"
   ]
  },
  {
   "cell_type": "code",
   "execution_count": null,
   "metadata": {
    "vscode": {
     "languageId": "sql"
    }
   },
   "outputs": [],
   "source": [
    "-- Question 4\n",
    "-- 뭔소리지? first city 가 뭐임\n"
   ]
  },
  {
   "attachments": {},
   "cell_type": "markdown",
   "metadata": {},
   "source": [
    "### 질의 그룹 #2: 5 Question"
   ]
  },
  {
   "cell_type": "code",
   "execution_count": null,
   "metadata": {
    "vscode": {
     "languageId": "sql"
    }
   },
   "outputs": [],
   "source": [
    "-- Question 1\n",
    "\n",
    "SELECT Pnumber, Jnumber, SUM(QTY)\n",
    "FROM SPJ\n",
    "GROUP BY Pnumber, Jnumber;\n",
    "\n",
    "-- 제대로 해석한게 맞나"
   ]
  },
  {
   "cell_type": "code",
   "execution_count": null,
   "metadata": {
    "vscode": {
     "languageId": "sql"
    }
   },
   "outputs": [],
   "source": [
    "-- Question 2\n",
    "-- 뭐라는겨\n",
    "\n",
    "SELECT Pnumber, Jnumber, SUM(QTY)\n",
    "FROM SPJ\n",
    "GROUP BY Pnumber, Jnumber;\n",
    "HAVING SUM(QTY) \n"
   ]
  },
  {
   "cell_type": "code",
   "execution_count": null,
   "metadata": {
    "vscode": {
     "languageId": "sql"
    }
   },
   "outputs": [],
   "source": [
    "-- Question 3\n",
    "\n",
    "SELECT JNO, CITY\n",
    "FROM Project\n",
    "WHERE CITY LIKE('_o%');"
   ]
  },
  {
   "cell_type": "code",
   "execution_count": null,
   "metadata": {
    "vscode": {
     "languageId": "sql"
    }
   },
   "outputs": [],
   "source": [
    "-- Question 4\n",
    "-- 하나만 출력하라는겨?\n",
    "\n",
    "SELECT JNO\n",
    "FROM Project\n",
    "ORDER BY CITY LIMIT 1;"
   ]
  },
  {
   "cell_type": "code",
   "execution_count": null,
   "metadata": {
    "vscode": {
     "languageId": "sql"
    }
   },
   "outputs": [],
   "source": [
    "-- Question 5\n",
    "-- 해석 뒈지게 어렵네"
   ]
  },
  {
   "attachments": {},
   "cell_type": "markdown",
   "metadata": {},
   "source": [
    "### 질의 그룹 #3: 4 Questions"
   ]
  },
  {
   "cell_type": "code",
   "execution_count": null,
   "metadata": {
    "vscode": {
     "languageId": "sql"
    }
   },
   "outputs": [],
   "source": [
    "-- Question 1\n",
    "\n",
    "SELECT Pnumber\n",
    "FROM Project, SPJ\n",
    "WHERE EXISTS (  SELECT *\n",
    "                FROM \n",
    "\n",
    "\n",
    ")"
   ]
  },
  {
   "cell_type": "code",
   "execution_count": null,
   "metadata": {
    "vscode": {
     "languageId": "sql"
    }
   },
   "outputs": [],
   "source": [
    "-- Question 2\n",
    "\n"
   ]
  },
  {
   "cell_type": "code",
   "execution_count": null,
   "metadata": {
    "vscode": {
     "languageId": "sql"
    }
   },
   "outputs": [],
   "source": [
    "-- Question 3"
   ]
  },
  {
   "cell_type": "code",
   "execution_count": null,
   "metadata": {
    "vscode": {
     "languageId": "sql"
    }
   },
   "outputs": [],
   "source": [
    "-- Question 4\n",
    "\n",
    "(SELECT CITY\n",
    "FROM Supplier)\n",
    "UNION\n",
    "(SELECT CITY\n",
    "FROM Part)\n",
    "UNION\n",
    "(SELECT CITY\n",
    "FROM Project);"
   ]
  },
  {
   "attachments": {},
   "cell_type": "markdown",
   "metadata": {},
   "source": [
    "### 질의 그룹 #4: 4 Questions"
   ]
  },
  {
   "cell_type": "code",
   "execution_count": null,
   "metadata": {
    "vscode": {
     "languageId": "sql"
    }
   },
   "outputs": [],
   "source": [
    "-- Question 1\n",
    "\n"
   ]
  }
 ],
 "metadata": {
  "kernelspec": {
   "display_name": "base",
   "language": "python",
   "name": "python3"
  },
  "language_info": {
   "codemirror_mode": {
    "name": "ipython",
    "version": 3
   },
   "file_extension": ".py",
   "mimetype": "text/x-python",
   "name": "python",
   "nbconvert_exporter": "python",
   "pygments_lexer": "ipython3",
   "version": "3.9.13"
  },
  "orig_nbformat": 4,
  "vscode": {
   "interpreter": {
    "hash": "fcfa22447a061305a34deef36b40a4daf1a75ba0ef343940a6abeee1aca9e9e8"
   }
  }
 },
 "nbformat": 4,
 "nbformat_minor": 2
}
