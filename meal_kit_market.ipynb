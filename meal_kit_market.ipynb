{
 "cells": [
  {
   "cell_type": "code",
   "execution_count": 6,
   "metadata": {
    "vscode": {
     "languageId": "sql"
    }
   },
   "outputs": [
    {
     "ename": "SyntaxError",
     "evalue": "illegal target for annotation (1103474524.py, line 1)",
     "output_type": "error",
     "traceback": [
      "\u001b[0;36m  File \u001b[0;32m\"/var/folders/_p/bl5lnhrj34l9j4bhyd1mh4v00000gn/T/ipykernel_4544/1103474524.py\"\u001b[0;36m, line \u001b[0;32m1\u001b[0m\n\u001b[0;31m    -- Active: 1684841689376@@127.0.0.1@3306@meal_kit_market\u001b[0m\n\u001b[0m    ^\u001b[0m\n\u001b[0;31mSyntaxError\u001b[0m\u001b[0;31m:\u001b[0m illegal target for annotation\n"
     ]
    }
   ],
   "source": [
    "-- Active: 1684841689376@@127.0.0.1@3306@meal_kit_market\n",
    "CREATE TABLE customer (\n",
    "    cno         VARCHAR(20)     NOT NULL,\n",
    "    name        VARCHAR(30)     NOT NULL,\n",
    "    pw          VARCHAR(30)     NOT NULL,\n",
    "    no_order    INT             DEFAULT 0,\n",
    "    stamp       INT             DEFAULT 0,\n",
    "    reg         DATE            DEFAULT(CURRENT_TIMESTAMP),\n",
    "    PRIMARY KEY(cno)\n",
    ");"
   ]
  },
  {
   "cell_type": "code",
   "execution_count": 4,
   "metadata": {
    "vscode": {
     "languageId": "sql"
    }
   },
   "outputs": [
    {
     "ename": "SyntaxError",
     "evalue": "invalid syntax (1628740749.py, line 1)",
     "output_type": "error",
     "traceback": [
      "\u001b[0;36m  File \u001b[0;32m\"/var/folders/_p/bl5lnhrj34l9j4bhyd1mh4v00000gn/T/ipykernel_4544/1628740749.py\"\u001b[0;36m, line \u001b[0;32m1\u001b[0m\n\u001b[0;31m    CREATE TABLE customer (\u001b[0m\n\u001b[0m           ^\u001b[0m\n\u001b[0;31mSyntaxError\u001b[0m\u001b[0;31m:\u001b[0m invalid syntax\n"
     ]
    }
   ],
   "source": [
    "CREATE TABLE product (\n",
    "    pid     INT             NOT NULL,\n",
    "    name    VARCHAR(30)     NOT NULL,\n",
    "    cate    VARCHAR(30)     NOT NULL,\n",
    "    price   INT,\n",
    "    qty     INT             DEFAULT 0,\n",
    "    reg     DATE            DEFAULT(CURRENT_TIMESTAMP),\n",
    "    des     VARCHAR(100),\n",
    "    PRIMARY KEY(pid)\n",
    ");"
   ]
  },
  {
   "cell_type": "code",
   "execution_count": null,
   "metadata": {
    "vscode": {
     "languageId": "sql"
    }
   },
   "outputs": [],
   "source": [
    "CREATE TABLE orders (\n",
    "    oid         INT         NOT NULL    AUTO_INCREMENT,\n",
    "    cus_no      VARCHAR(20),\n",
    "    ord_date    DATE    DEFAULT(CURRENT_TIMESTAMP),\n",
    "    price       INT         DEFAULT 0,\n",
    "    PRIMARY KEY(oid),\n",
    "    FOREIGN KEY (cus_no) REFERENCES customer(cno)\n",
    "        ON DELETE SET NULL ON UPDATE CASCADE\n",
    ");"
   ]
  },
  {
   "cell_type": "code",
   "execution_count": null,
   "metadata": {
    "vscode": {
     "languageId": "sql"
    }
   },
   "outputs": [],
   "source": [
    "CREATE TABLE cart (\n",
    "    ord_no      INT     NOT NULL,    \n",
    "    pro_id      INT     NOT NULL,\n",
    "    qty         INT,\n",
    "    PRIMARY KEY(ord_no, pro_id),\n",
    "    FOREIGN KEY(ord_no) REFERENCES orders(oid)\n",
    "        ON DELETE CASCADE ON UPDATE CASCADE,\n",
    "    FOREIGN KEY(pro_id) REFERENCES product(pid)\n",
    "        ON DELETE CASCADE ON UPDATE CASCADE\n",
    ")"
   ]
  },
  {
   "cell_type": "code",
   "execution_count": null,
   "metadata": {
    "vscode": {
     "languageId": "sql"
    }
   },
   "outputs": [],
   "source": [
    "CREATE TABLE admin (\n",
    "    admin_id    VARCHAR(20)     NOT NULL,\n",
    "    admin_name  VARCHAR(20)     NOT NULL,\n",
    "    admin_pw    VARCHAR(20)     NOT NULL,\n",
    "    PRIMARY KEY (admin_id)\n",
    ")"
   ]
  },
  {
   "cell_type": "code",
   "execution_count": 7,
   "metadata": {
    "vscode": {
     "languageId": "sql"
    }
   },
   "outputs": [
    {
     "ename": "SyntaxError",
     "evalue": "invalid syntax (1952396676.py, line 1)",
     "output_type": "error",
     "traceback": [
      "\u001b[0;36m  File \u001b[0;32m\"/var/folders/_p/bl5lnhrj34l9j4bhyd1mh4v00000gn/T/ipykernel_4544/1952396676.py\"\u001b[0;36m, line \u001b[0;32m1\u001b[0m\n\u001b[0;31m    INSERT INTO customer (cno, name, pw)\u001b[0m\n\u001b[0m           ^\u001b[0m\n\u001b[0;31mSyntaxError\u001b[0m\u001b[0;31m:\u001b[0m invalid syntax\n"
     ]
    }
   ],
   "source": [
    "INSERT INTO customer (cno, name, pw, reg)\n",
    "VALUES\n",
    "    ('01031415926',   '김지원', 'wonji01' ,     \"2023-04-01\"),\n",
    "    ('01053589793',   '박서준', 'juns1234',     \"2023-05-12\"),\n",
    "    ('01023846264',   '민병헌', 'honeyhoney',   \"2023-05-07\"),\n",
    "    ('01058209749',   '이예준', 'junny'   ,     \"2023-04-30\"),\n",
    "    ('01082148086',   '김선우', 'ssun32' ,      \"2023-01-11\"),\n",
    "    ('01048111745',   '김진환', 'jinanni' ,     \"2023-03-04\"),\n",
    "    ('01044288109',   '김주원', 'zoocircle',    \"2023-02-01\"),\n",
    "    ('01045648566',   '서지호', 'westjiho',     \"2023-03-12\"),\n",
    "    ('01072458700',   '최산',  'wonderland',    \"2023-05-15\"),\n",
    "    ('01033057270',   '박건우', 'bestbatter',   \"2023-02-18\"),\n",
    "    ('01017446237',   '이용찬', 'pitcher45',    \"2023-05-12\"),\n",
    "    ('01098336733',   '정찬우', 'ikonchan07',   \"2023-01-20\"),\n",
    "    ('01060943702',   '박성화', 'ateezsung',    \"2023-05-21\");\n",
    "    "
   ]
  },
  {
   "cell_type": "code",
   "execution_count": null,
   "metadata": {
    "vscode": {
     "languageId": "sql"
    }
   },
   "outputs": [],
   "source": [
    "# 개장일 고려한 데이터\n",
    "INSERT INTO customer (cno, name, pw, reg)\n",
    "VALUES\n",
    "    ('01031415926',   '김지원', 'wonji01' ,     \"2023-05-25\"),\n",
    "    ('01053589793',   '박서준', 'juns1234',     \"2023-05-25\"),\n",
    "    ('01023846264',   '민병헌', 'honeyhoney',   \"2023-05-25\"),\n",
    "    ('01058209749',   '이예준', 'junny'   ,     \"2023-05-26\"),\n",
    "    ('01082148086',   '김선우', 'ssun32' ,      \"2023-05-26\"),\n",
    "    ('01048111745',   '김진환', 'jinanni' ,     \"2023-05-26\"),\n",
    "    ('01044288109',   '김주원', 'zoocircle',    \"2023-05-27\"),\n",
    "    ('01045648566',   '서지호', 'westjiho',     \"2023-05-27\"),\n",
    "    ('01072458700',   '최산',  'wonderland',    \"2023-05-29\"),\n",
    "    ('01033057270',   '박건우', 'bestbatter',   \"2023-05-30\"),\n",
    "    ('01017446237',   '이용찬', 'pitcher45',    \"2023-05-30\"),\n",
    "    ('01098336733',   '정찬우', 'ikonchan07',   \"2023-05-31\"),\n",
    "    ('01060943702',   '박성화', 'ateezsung',    \"2023-06-01\");\n",
    "    "
   ]
  },
  {
   "cell_type": "code",
   "execution_count": null,
   "metadata": {
    "vscode": {
     "languageId": "sql"
    }
   },
   "outputs": [],
   "source": [
    "INSERT INTO product\n",
    "VALUES\n",
    "    (1, '짜장면',        '중식',    6000,  20, CURRENT_TIMESTAMP, NULL),\n",
    "    (2, '깐풍기',        '중식',    20000, 20, CURRENT_TIMESTAMP, '겉은바삭, 속은 부드러운 깐풍기'),\n",
    "    (3, '짬뽕',          '중식',    7000,  20, CURRENT_TIMESTAMP, '혀가 아리도록 매콤한 맛'),\n",
    "    (4, '들기름 메밀 막국수', '한식',  7600,  20, CURRENT_TIMESTAMP, '메밀과 들기름의 고소한 맛'),\n",
    "    (5, '가래떡 떡볶이',    '분식',   6500, 20, CURRENT_TIMESTAMP, '가래떡의 쫄깃쫄깃한 맛'),\n",
    "    (6, '밀푀유나베',      '일식',   23000,  20, CURRENT_TIMESTAMP, NULL),\n",
    "    (7, '알리오 올리오',    '양식',\t  14000, 20, CURRENT_TIMESTAMP, NULL),\n",
    "    (8, '샤브샤브',\t       '일식',\t 18000, 20, CURRENT_TIMESTAMP, NULL),\n",
    "    (9, '부대찌개',\t      '한식',\t 15000, 20, CURRENT_TIMESTAMP, '가래떡의 쫄깃쫄깃한 맛'),\n",
    "    (10, '바질파스타',     '양식',     13000, 20, CURRENT_TIMESTAMP, NULL),\n",
    "    (11, '순두부찌개',     '한식',    11500, 20, CURRENT_TIMESTAMP, NULL),\n",
    "    (12, '김치찌개',       '한식',   12000, 20, CURRENT_TIMESTAMP, '한국인의 밥도둑 음식'),\n",
    "    (13, '돈까스',        '일식',   13000, 20, CURRENT_TIMESTAMP, '연돈 버금가는 맛의 돈까스'),\n",
    "    (14, '우삼겹 된장찌개', '한식',   12000, 20, CURRENT_TIMESTAMP, NULL),\n",
    "    (15, '고르곤졸라 피자', '양식',   16000, 20, CURRENT_TIMESTAMP, NULL),\n",
    "    (16, '튀김세트',      '분식',   10000, 20, CURRENT_TIMESTAMP, '오징어, 김말이, 고구마 튀김을 한번에');"
   ]
  },
  {
   "cell_type": "code",
   "execution_count": null,
   "metadata": {
    "vscode": {
     "languageId": "sql"
    }
   },
   "outputs": [],
   "source": [
    "INSERT INTO product\n",
    "VALUES\n",
    "    (1, '짜장면',        '중식',    6000,  20, \"2023-05-17\", NULL),\n",
    "    (2, '깐풍기',        '중식',    20000, 10, \"2023-05-17\", '겉은바삭, 속은 부드러운 깐풍기'),\n",
    "    (3, '짬뽕',          '중식',    7000,  20, \"2023-05-17\", '혀가 아리도록 매콤한 맛'),\n",
    "    (4, '들기름 메밀 막국수', '한식',  7600,  10, \"2023-05-20\", '메밀과 들기름의 고소한 맛'),\n",
    "    (5, '가래떡 떡볶이',    '분식',   6500, 20, \"2023-05-21\", '가래떡의 쫄깃쫄깃한 맛'),\n",
    "    (6, '밀푀유나베',      '일식',   23000,  10, \"2023-05-17\", NULL),\n",
    "    (7, '알리오 올리오',    '양식',\t  14000, 20, \"2023-05-21\", NULL),\n",
    "    (8, '샤브샤브',\t       '일식',\t 18000, 10, \"2023-05-17\", NULL),\n",
    "    (9, '부대찌개',\t      '한식',\t 15000, 15, \"2023-05-20\", '가래떡의 쫄깃쫄깃한 맛'),\n",
    "    (10, '바질파스타',     '양식',     13000, 10, \"2023-05-21\", NULL),\n",
    "    (11, '순두부찌개',     '한식',    11500, 20, \"2023-05-20\", NULL),\n",
    "    (12, '김치찌개',       '한식',   12000, 20, \"2023-05-20\", '한국인의 밥도둑 음식'),\n",
    "    (13, '돈까스',        '일식',   13000, 10, \"2023-05-17\", '연돈 버금가는 맛의 돈까스'),\n",
    "    (14, '우삼겹 된장찌개', '한식',   12000, 15, \"2023-05-20\", NULL),\n",
    "    (15, '고르곤졸라 피자', '양식',   16000, 10, \"2023-05-21\", NULL),\n",
    "    (16, '튀김세트',      '분식',   10000, 15, \"2023-05-21\", '오징어, 김말이, 고구마 튀김을 한번에');"
   ]
  },
  {
   "cell_type": "code",
   "execution_count": null,
   "metadata": {
    "vscode": {
     "languageId": "sql"
    }
   },
   "outputs": [],
   "source": [
    "INSERT INTO admin\n",
    "VALUES\n",
    "    (\"01020020705\", \"min02choi\", \"minyoung\"),\n",
    "    (\"01019990606\", \"bbbiigin\", \"handae\")"
   ]
  },
  {
   "cell_type": "code",
   "execution_count": null,
   "metadata": {
    "vscode": {
     "languageId": "sql"
    }
   },
   "outputs": [],
   "source": [
    "SELECT product.pid, product.name, cart.qty, product.price * cart.qty FROM product, orders, cart WHERE orders.ord_date = '2023-05-30' AND orders.oid = cart.ord_no AND cart.pro_id = product.pid"
   ]
  }
 ],
 "metadata": {
  "kernelspec": {
   "display_name": "base",
   "language": "python",
   "name": "python3"
  },
  "language_info": {
   "codemirror_mode": {
    "name": "ipython",
    "version": 3
   },
   "file_extension": ".py",
   "mimetype": "text/x-python",
   "name": "python",
   "nbconvert_exporter": "python",
   "pygments_lexer": "ipython3",
   "version": "3.9.13 (main, Aug 25 2022, 18:29:29) \n[Clang 12.0.0 ]"
  },
  "orig_nbformat": 4,
  "vscode": {
   "interpreter": {
    "hash": "fcfa22447a061305a34deef36b40a4daf1a75ba0ef343940a6abeee1aca9e9e8"
   }
  }
 },
 "nbformat": 4,
 "nbformat_minor": 2
}
